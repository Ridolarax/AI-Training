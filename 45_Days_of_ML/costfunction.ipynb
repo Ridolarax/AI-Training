{
 "cells": [
  {
   "cell_type": "markdown",
   "id": "d1625d0b",
   "metadata": {},
   "source": [
    "# This is to implement the Linear Regression Algorithm and Development of the Cost Function\n"
   ]
  },
  {
   "cell_type": "code",
   "execution_count": 16,
   "id": "8b0ee07e",
   "metadata": {},
   "outputs": [],
   "source": [
    "# Import Neccesary Libraries\n",
    "import numpy as np\n",
    "import pandas as pd \n",
    "import matplotlib.pyplot as plt\n",
    "import seaborn as sn\n",
    "%matplotlib inline"
   ]
  },
  {
   "cell_type": "code",
   "execution_count": 3,
   "id": "9c2cef6e",
   "metadata": {},
   "outputs": [],
   "source": [
    "# Read the Test_file\n",
    "\n",
    "test_file = pd.read_csv(\"./45ml_days_test.csv\")"
   ]
  },
  {
   "cell_type": "code",
   "execution_count": 8,
   "id": "9f5dec01",
   "metadata": {},
   "outputs": [
    {
     "data": {
      "text/html": [
       "<div>\n",
       "<style scoped>\n",
       "    .dataframe tbody tr th:only-of-type {\n",
       "        vertical-align: middle;\n",
       "    }\n",
       "\n",
       "    .dataframe tbody tr th {\n",
       "        vertical-align: top;\n",
       "    }\n",
       "\n",
       "    .dataframe thead th {\n",
       "        text-align: right;\n",
       "    }\n",
       "</style>\n",
       "<table border=\"1\" class=\"dataframe\">\n",
       "  <thead>\n",
       "    <tr style=\"text-align: right;\">\n",
       "      <th></th>\n",
       "      <th>X</th>\n",
       "      <th>Y</th>\n",
       "    </tr>\n",
       "  </thead>\n",
       "  <tbody>\n",
       "    <tr>\n",
       "      <th>0</th>\n",
       "      <td>108</td>\n",
       "      <td>392.5</td>\n",
       "    </tr>\n",
       "    <tr>\n",
       "      <th>1</th>\n",
       "      <td>19</td>\n",
       "      <td>46.2</td>\n",
       "    </tr>\n",
       "    <tr>\n",
       "      <th>2</th>\n",
       "      <td>13</td>\n",
       "      <td>15.7</td>\n",
       "    </tr>\n",
       "    <tr>\n",
       "      <th>3</th>\n",
       "      <td>124</td>\n",
       "      <td>422.2</td>\n",
       "    </tr>\n",
       "    <tr>\n",
       "      <th>4</th>\n",
       "      <td>40</td>\n",
       "      <td>119.4</td>\n",
       "    </tr>\n",
       "  </tbody>\n",
       "</table>\n",
       "</div>"
      ],
      "text/plain": [
       "     X      Y\n",
       "0  108  392.5\n",
       "1   19   46.2\n",
       "2   13   15.7\n",
       "3  124  422.2\n",
       "4   40  119.4"
      ]
     },
     "execution_count": 8,
     "metadata": {},
     "output_type": "execute_result"
    }
   ],
   "source": [
    "# Check the overview of the file\n",
    "\n",
    "test_file.head()"
   ]
  },
  {
   "cell_type": "code",
   "execution_count": 21,
   "id": "fc520fbd",
   "metadata": {},
   "outputs": [
    {
     "data": {
      "text/html": [
       "<div>\n",
       "<style scoped>\n",
       "    .dataframe tbody tr th:only-of-type {\n",
       "        vertical-align: middle;\n",
       "    }\n",
       "\n",
       "    .dataframe tbody tr th {\n",
       "        vertical-align: top;\n",
       "    }\n",
       "\n",
       "    .dataframe thead th {\n",
       "        text-align: right;\n",
       "    }\n",
       "</style>\n",
       "<table border=\"1\" class=\"dataframe\">\n",
       "  <thead>\n",
       "    <tr style=\"text-align: right;\">\n",
       "      <th></th>\n",
       "      <th>X</th>\n",
       "      <th>Y</th>\n",
       "    </tr>\n",
       "  </thead>\n",
       "  <tbody>\n",
       "    <tr>\n",
       "      <th>58</th>\n",
       "      <td>9</td>\n",
       "      <td>87.4</td>\n",
       "    </tr>\n",
       "    <tr>\n",
       "      <th>59</th>\n",
       "      <td>31</td>\n",
       "      <td>209.8</td>\n",
       "    </tr>\n",
       "    <tr>\n",
       "      <th>60</th>\n",
       "      <td>14</td>\n",
       "      <td>95.5</td>\n",
       "    </tr>\n",
       "    <tr>\n",
       "      <th>61</th>\n",
       "      <td>53</td>\n",
       "      <td>244.6</td>\n",
       "    </tr>\n",
       "    <tr>\n",
       "      <th>62</th>\n",
       "      <td>26</td>\n",
       "      <td>187.5</td>\n",
       "    </tr>\n",
       "  </tbody>\n",
       "</table>\n",
       "</div>"
      ],
      "text/plain": [
       "     X      Y\n",
       "58   9   87.4\n",
       "59  31  209.8\n",
       "60  14   95.5\n",
       "61  53  244.6\n",
       "62  26  187.5"
      ]
     },
     "execution_count": 21,
     "metadata": {},
     "output_type": "execute_result"
    }
   ],
   "source": [
    "test_file.tail()"
   ]
  },
  {
   "cell_type": "code",
   "execution_count": 22,
   "id": "5adf001a",
   "metadata": {},
   "outputs": [
    {
     "data": {
      "text/plain": [
       "422.2"
      ]
     },
     "execution_count": 22,
     "metadata": {},
     "output_type": "execute_result"
    }
   ],
   "source": [
    "test_file[\"Y\"].max()"
   ]
  },
  {
   "cell_type": "code",
   "execution_count": 11,
   "id": "cc6806e0",
   "metadata": {},
   "outputs": [
    {
     "name": "stdout",
     "output_type": "stream",
     "text": [
      "<class 'pandas.core.frame.DataFrame'>\n",
      "RangeIndex: 63 entries, 0 to 62\n",
      "Data columns (total 2 columns):\n",
      " #   Column  Non-Null Count  Dtype  \n",
      "---  ------  --------------  -----  \n",
      " 0   X       63 non-null     int64  \n",
      " 1   Y       63 non-null     float64\n",
      "dtypes: float64(1), int64(1)\n",
      "memory usage: 1.1 KB\n"
     ]
    }
   ],
   "source": [
    "# Check the info of the dataset\n",
    "\n",
    "test_file.info()"
   ]
  },
  {
   "cell_type": "code",
   "execution_count": 17,
   "id": "0d2d5e9f",
   "metadata": {},
   "outputs": [
    {
     "data": {
      "image/png": "[encoded data removed]",
      "text/plain": [
       "<Figure size 432x288 with 1 Axes>"
      ]
     },
     "metadata": {
      "needs_background": "light"
     },
     "output_type": "display_data"
    }
   ],
   "source": [
    "# Draw Scatter Plot of the dataset\n",
    "\n",
    "plt.scatter(x = test_file[\"X\"], y = test_file[\"Y\"])\n",
    "plt.show()"
   ]
  },
  {
   "cell_type": "code",
   "execution_count": 20,
   "id": "37906dcb",
   "metadata": {},
   "outputs": [
    {
     "data": {
      "image/png": "[encoded data removed]",
      "text/plain": [
       "<Figure size 432x288 with 1 Axes>"
      ]
     },
     "metadata": {
      "needs_background": "light"
     },
     "output_type": "display_data"
    }
   ],
   "source": [
    "# Draw Scatter Plot Using the regplot\n",
    "\n",
    "sn.regplot(x = \"X\", y = \"Y\", data= test_file)\n",
    "plt.show()"
   ]
  },
  {
   "cell_type": "code",
   "execution_count": 56,
   "id": "981135d6",
   "metadata": {},
   "outputs": [],
   "source": [
    "# for i in range(test_file.shape[0]):\n",
    "#     print(test_file.X[i])"
   ]
  },
  {
   "cell_type": "markdown",
   "id": "60fa7005",
   "metadata": {},
   "source": [
    "### Now Develop a Univariate Algorithm using Cost Function\n",
    "\n",
    "The Task: Implement Cost Function for Univariate Linear Regression\n",
    "\n",
    "## Problem Statement:\n",
    "\n",
    "Build a model that can predict the IQ of an individaul based on thier age. The input feature, x is the age and the target feature, y is the IQ"
   ]
  },
  {
   "cell_type": "code",
   "execution_count": 49,
   "id": "b4f2d26a",
   "metadata": {},
   "outputs": [],
   "source": [
    "# Compute Cost function\n",
    "# Algorithm:\n",
    "    # Compute cost, \"total_cost\", by looping through each data set\n",
    "    # In each loop, the error is calculated, squared and added to the overall cost\n",
    "    # The overall model is predicted as func_wb = wx + b\n",
    "    \n",
    "\n",
    "def cost_function(x, y, w, b):\n",
    "    \"\"\"\n",
    "        Computes the cost function of a univariate linear regression by looping each data point\n",
    "        \n",
    "        Args: \n",
    "            x : the input feature\n",
    "            y : target\n",
    "            w : the first model parameter\n",
    "            x : the second model parameter\n",
    "            \n",
    "        Return :\n",
    "            The total cost, \"total_cost\".\n",
    "    \"\"\"\n",
    "    \n",
    "    # Initialize Variables:\n",
    "    loop_num = len(test_file) # Defines the number of time the function loops\n",
    "    cost = 0\n",
    "    \n",
    "    # Define cost_fucntion:\n",
    "    for i in range(loop_num):\n",
    "        func_wb = w * test_file.X[i] + b\n",
    "        error = func_wb - y\n",
    "        error_squarred = error ** 2\n",
    "        cost = error_squarred + cost\n",
    "        \n",
    "    total_cost = (1/ (2*loop_num)) * cost\n",
    "    return total_cost\n",
    "        \n",
    "    \n",
    "    "
   ]
  },
  {
   "cell_type": "code",
   "execution_count": 57,
   "id": "9e548462",
   "metadata": {},
   "outputs": [],
   "source": [
    "# Now, Need to plot the cost_function Over the whole dataset\n",
    "x = test_file.X\n",
    "y = test_file.Y\n"
   ]
  },
  {
   "cell_type": "code",
   "execution_count": null,
   "id": "194cb34d",
   "metadata": {},
   "outputs": [],
   "source": []
  }
 ],
 "metadata": {
  "kernelspec": {
   "display_name": "Python 3 (ipykernel)",
   "language": "python",
   "name": "python3"
  },
  "language_info": {
   "codemirror_mode": {
    "name": "ipython",
    "version": 3
   },
   "file_extension": ".py",
   "mimetype": "text/x-python",
   "name": "python",
   "nbconvert_exporter": "python",
   "pygments_lexer": "ipython3",
   "version": "3.9.12"
  },
  "varInspector": {
   "cols": {
    "lenName": 16,
    "lenType": 16,
    "lenVar": 40
   },
   "kernels_config": {
    "python": {
     "delete_cmd_postfix": "",
     "delete_cmd_prefix": "del ",
     "library": "var_list.py",
     "varRefreshCmd": "print(var_dic_list())"
    },
    "r": {
     "delete_cmd_postfix": ") ",
     "delete_cmd_prefix": "rm(",
     "library": "var_list.r",
     "varRefreshCmd": "cat(var_dic_list()) "
    }
   },
   "types_to_exclude": [
    "module",
    "function",
    "builtin_function_or_method",
    "instance",
    "_Feature"
   ],
   "window_display": false
  }
 },
 "nbformat": 4,
 "nbformat_minor": 5
}
